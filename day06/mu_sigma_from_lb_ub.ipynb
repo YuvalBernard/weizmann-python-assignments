{
 "cells": [
  {
   "cell_type": "code",
   "execution_count": 1,
   "metadata": {},
   "outputs": [],
   "source": [
    "import numpy as np\n",
    "from scipy.stats import norm\n",
    "import pandas as pd\n",
    "from functools import partial"
   ]
  },
  {
   "cell_type": "code",
   "execution_count": 2,
   "metadata": {},
   "outputs": [],
   "source": [
    "@partial(np.vectorize, excluded=[2,3], signature='(),()->(n)')\n",
    "def normal_dist_from_quantiles(x1, x2, p1, p2):\n",
    "    mu = (x1*norm.ppf(p2) - x2*norm.ppf(p1))/(norm.ppf(p2) - norm.ppf(p1))\n",
    "    sigma = (x2 - x1)/(norm.ppf(p2) - norm.ppf(p1))\n",
    "    return np.array([mu, sigma])\n",
    "\n",
    "def print_dist_info(data):\n",
    "    parameters = data[\"parameter\"]\n",
    "    lb = data[\"lb\"]\n",
    "    ub = data[\"ub\"]\n",
    "    mu_sigma = normal_dist_from_quantiles(lb, ub, 0.025, 0.975)\n",
    "\n",
    "    for i, par in enumerate(parameters):\n",
    "        mu, sigma = mu_sigma[i]\n",
    "        print(f\"{par} ~ Normal({mu:.3g},{sigma:.3g})\")\n",
    "    return mu_sigma[:, 0], mu_sigma[:, 1]"
   ]
  },
  {
   "cell_type": "code",
   "execution_count": 3,
   "metadata": {},
   "outputs": [
    {
     "name": "stdout",
     "output_type": "stream",
     "text": [
      "R1b ~ Normal(5.05,2.53)\n",
      "R2b ~ Normal(1e+04,5.1e+03)\n",
      "k ~ Normal(155,74)\n",
      "f ~ Normal(0.0251,0.0127)\n"
     ]
    }
   ],
   "source": [
    "data = pd.read_csv(\"lower-upper-bounds.csv\")\n",
    "mu, sigma = print_dist_info(data)"
   ]
  },
  {
   "cell_type": "code",
   "execution_count": 63,
   "metadata": {},
   "outputs": [
    {
     "data": {
      "text/plain": [
       "True"
      ]
     },
     "execution_count": 63,
     "metadata": {},
     "output_type": "execute_result"
    }
   ],
   "source": [
    "f\"{mu[2]:.3g}, {sigma[2]:.3g}\" == \"155, 74\""
   ]
  }
 ],
 "metadata": {
  "kernelspec": {
   "display_name": "Python 3",
   "language": "python",
   "name": "python3"
  },
  "language_info": {
   "codemirror_mode": {
    "name": "ipython",
    "version": 3
   },
   "file_extension": ".py",
   "mimetype": "text/x-python",
   "name": "python",
   "nbconvert_exporter": "python",
   "pygments_lexer": "ipython3",
   "version": "3.12.3"
  }
 },
 "nbformat": 4,
 "nbformat_minor": 2
}
